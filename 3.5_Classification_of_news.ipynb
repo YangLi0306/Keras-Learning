{
 "cells": [
  {
   "cell_type": "markdown",
   "id": "b78f5f6f",
   "metadata": {},
   "source": [
    "# 电影分类\n",
    "### Step 1：加载路透社数据集"
   ]
  },
  {
   "cell_type": "code",
   "execution_count": 1,
   "id": "e5924ebd",
   "metadata": {},
   "outputs": [
    {
     "name": "stdout",
     "output_type": "stream",
     "text": [
      "Downloading data from https://storage.googleapis.com/tensorflow/tf-keras-datasets/reuters.npz\n",
      "2110848/2110848 [==============================] - 1s 0us/step\n"
     ]
    }
   ],
   "source": [
    "from keras.datasets import reuters\n",
    "\n",
    "(train_data, train_labels), (test_data, test_labels) = reuters.load_data(num_words=10000)"
   ]
  },
  {
   "cell_type": "code",
   "execution_count": 2,
   "id": "474bff7a",
   "metadata": {},
   "outputs": [
    {
     "data": {
      "text/plain": [
       "8982"
      ]
     },
     "execution_count": 2,
     "metadata": {},
     "output_type": "execute_result"
    }
   ],
   "source": [
    "len(train_data)"
   ]
  },
  {
   "cell_type": "markdown",
   "id": "da93ab77",
   "metadata": {},
   "source": [
    "### Step 2：准备数据"
   ]
  },
  {
   "cell_type": "code",
   "execution_count": 3,
   "id": "9b11e777",
   "metadata": {},
   "outputs": [
    {
     "data": {
      "text/plain": [
       "array([0., 0., 0., 1., 0., 0., 0., 0., 0., 0., 0., 0., 0., 0., 0., 0., 0.,\n",
       "       0., 0., 0., 0., 0., 0., 0., 0., 0., 0., 0., 0., 0., 0., 0., 0., 0.,\n",
       "       0., 0., 0., 0., 0., 0., 0., 0., 0., 0., 0., 0.], dtype=float32)"
      ]
     },
     "execution_count": 3,
     "metadata": {},
     "output_type": "execute_result"
    }
   ],
   "source": [
    "import numpy as np\n",
    "\n",
    "def vectorize_sequences(sequences, dimension=10000):\n",
    "    results = np.zeros((len(sequences), dimension))\n",
    "    for i, sequence in enumerate(sequences):\n",
    "        results[i, sequence] = 1 \n",
    "    return results\n",
    "\n",
    "# 数据向量化\n",
    "x_train = vectorize_sequences(train_data)\n",
    "x_test = vectorize_sequences(test_data)\n",
    "\n",
    "from keras.utils.np_utils import to_categorical\n",
    "\n",
    "# one_hot编码\n",
    "one_hot_train_labels = to_categorical(train_labels)\n",
    "one_hot_test_labels = to_categorical(test_labels)\n",
    "\n",
    "one_hot_test_labels[0]"
   ]
  },
  {
   "cell_type": "markdown",
   "id": "4f8279b0",
   "metadata": {},
   "source": [
    "### Step 3：构建网络并训练"
   ]
  },
  {
   "cell_type": "code",
   "execution_count": 6,
   "id": "4287a815",
   "metadata": {},
   "outputs": [
    {
     "name": "stdout",
     "output_type": "stream",
     "text": [
      "Epoch 1/20\n",
      "16/16 [==============================] - 1s 38ms/step - loss: 2.7082 - accuracy: 0.5056 - val_loss: 1.7693 - val_accuracy: 0.6360\n",
      "Epoch 2/20\n",
      "16/16 [==============================] - 0s 23ms/step - loss: 1.4201 - accuracy: 0.7110 - val_loss: 1.2892 - val_accuracy: 0.7160\n",
      "Epoch 3/20\n",
      "16/16 [==============================] - 0s 29ms/step - loss: 1.0335 - accuracy: 0.7756 - val_loss: 1.1448 - val_accuracy: 0.7520\n",
      "Epoch 4/20\n",
      "16/16 [==============================] - 0s 23ms/step - loss: 0.8140 - accuracy: 0.8241 - val_loss: 1.0116 - val_accuracy: 0.7930\n",
      "Epoch 5/20\n",
      "16/16 [==============================] - 0s 22ms/step - loss: 0.6450 - accuracy: 0.8663 - val_loss: 0.9413 - val_accuracy: 0.8120\n",
      "Epoch 6/20\n",
      "16/16 [==============================] - 0s 23ms/step - loss: 0.5137 - accuracy: 0.8976 - val_loss: 0.9165 - val_accuracy: 0.8050\n",
      "Epoch 7/20\n",
      "16/16 [==============================] - 0s 23ms/step - loss: 0.4069 - accuracy: 0.9178 - val_loss: 0.9467 - val_accuracy: 0.7860\n",
      "Epoch 8/20\n",
      "16/16 [==============================] - 0s 29ms/step - loss: 0.3354 - accuracy: 0.9290 - val_loss: 0.9024 - val_accuracy: 0.8100\n",
      "Epoch 9/20\n",
      "16/16 [==============================] - 0s 23ms/step - loss: 0.2761 - accuracy: 0.9375 - val_loss: 0.8882 - val_accuracy: 0.8160\n",
      "Epoch 10/20\n",
      "16/16 [==============================] - 0s 22ms/step - loss: 0.2340 - accuracy: 0.9474 - val_loss: 0.9085 - val_accuracy: 0.8160\n",
      "Epoch 11/20\n",
      "16/16 [==============================] - 0s 22ms/step - loss: 0.2051 - accuracy: 0.9485 - val_loss: 0.9127 - val_accuracy: 0.8200\n",
      "Epoch 12/20\n",
      "16/16 [==============================] - 0s 22ms/step - loss: 0.1843 - accuracy: 0.9508 - val_loss: 0.9113 - val_accuracy: 0.8180\n",
      "Epoch 13/20\n",
      "16/16 [==============================] - 0s 26ms/step - loss: 0.1628 - accuracy: 0.9530 - val_loss: 0.9643 - val_accuracy: 0.8070\n",
      "Epoch 14/20\n",
      "16/16 [==============================] - 0s 26ms/step - loss: 0.1504 - accuracy: 0.9545 - val_loss: 0.9397 - val_accuracy: 0.8100\n",
      "Epoch 15/20\n",
      "16/16 [==============================] - 0s 22ms/step - loss: 0.1396 - accuracy: 0.9551 - val_loss: 0.9688 - val_accuracy: 0.8080\n",
      "Epoch 16/20\n",
      "16/16 [==============================] - 0s 22ms/step - loss: 0.1322 - accuracy: 0.9574 - val_loss: 1.0187 - val_accuracy: 0.7980\n",
      "Epoch 17/20\n",
      "16/16 [==============================] - 0s 23ms/step - loss: 0.1265 - accuracy: 0.9544 - val_loss: 1.0822 - val_accuracy: 0.7950\n",
      "Epoch 18/20\n",
      "16/16 [==============================] - 0s 28ms/step - loss: 0.1190 - accuracy: 0.9572 - val_loss: 1.0017 - val_accuracy: 0.8150\n",
      "Epoch 19/20\n",
      "16/16 [==============================] - 0s 25ms/step - loss: 0.1150 - accuracy: 0.9579 - val_loss: 1.0690 - val_accuracy: 0.8050\n",
      "Epoch 20/20\n",
      "16/16 [==============================] - 0s 19ms/step - loss: 0.1134 - accuracy: 0.9598 - val_loss: 1.1230 - val_accuracy: 0.7980\n"
     ]
    }
   ],
   "source": [
    "from keras import models \n",
    "from keras import layers\n",
    "\n",
    "model = models.Sequential()\n",
    "model.add(layers.Dense(64, activation='relu', input_shape=(10000, )))\n",
    "model.add(layers.Dense(64, activation='relu'))\n",
    "model.add(layers.Dense(46, activation='softmax'))\n",
    "\n",
    "model.compile(optimizer='rmsprop',\n",
    "              loss='categorical_crossentropy',\n",
    "              metrics=['accuracy'])\n",
    "\n",
    "x_val = x_train[:1000]\n",
    "partial_x_train = x_train[1000:]\n",
    "\n",
    "y_val = one_hot_train_labels[:1000]\n",
    "partial_y_train = one_hot_train_labels[1000:]\n",
    "\n",
    "history = model.fit(partial_x_train,\n",
    "                    partial_y_train,\n",
    "                    epochs = 20,\n",
    "                    batch_size = 512,\n",
    "                    validation_data=(x_val, y_val))"
   ]
  },
  {
   "cell_type": "markdown",
   "id": "37aa9e4c",
   "metadata": {},
   "source": [
    "### Step 4：绘制图像\n",
    "**训练精度和验证精度**"
   ]
  },
  {
   "cell_type": "code",
   "execution_count": 8,
   "id": "01fbc9cb",
   "metadata": {},
   "outputs": [
    {
     "data": {
      "image/png": "[encoded data removed]",
      "text/plain": [
       "<Figure size 640x480 with 1 Axes>"
      ]
     },
     "metadata": {},
     "output_type": "display_data"
    }
   ],
   "source": [
    "import matplotlib.pyplot as plt \n",
    "\n",
    "loss = history.history['loss']\n",
    "val_loss = history.history['val_loss']\n",
    "\n",
    "epochs = range(1, len(loss) + 1)\n",
    "\n",
    "plt.plot(epochs, loss, 'bo', label='Training loss')\n",
    "plt.plot(epochs, val_loss, 'b', label='Validation loss')\n",
    "plt.title('Training and validation loss')\n",
    "plt.xlabel('Epochs')\n",
    "plt.ylabel('Loss')\n",
    "plt.legend()\n",
    "\n",
    "plt.show()"
   ]
  },
  {
   "cell_type": "markdown",
   "id": "a5e68dd2",
   "metadata": {},
   "source": [
    "**训练精度和验证精度**"
   ]
  },
  {
   "cell_type": "code",
   "execution_count": 9,
   "id": "e9dfaad9",
   "metadata": {},
   "outputs": [
    {
     "data": {
      "image/png": "[encoded data removed]",
      "text/plain": [
       "<Figure size 640x480 with 1 Axes>"
      ]
     },
     "metadata": {},
     "output_type": "display_data"
    }
   ],
   "source": [
    "plt.clf()\n",
    "\n",
    "acc = history.history['accuracy']\n",
    "val_acc = history.history['val_accuracy']\n",
    "\n",
    "plt.plot(epochs, acc, 'bo', label='Training acc')\n",
    "plt.plot(epochs, val_acc, 'b', label='Validation acc')\n",
    "plt.title('Training and validation accuracy')\n",
    "plt.xlabel('Epochs')\n",
    "plt.ylabel('Accuracy')\n",
    "plt.legend()\n",
    "\n",
    "plt.show()"
   ]
  },
  {
   "cell_type": "markdown",
   "id": "2cf934f1",
   "metadata": {},
   "source": [
    "### Step 5：从头开始重新训练模型"
   ]
  },
  {
   "cell_type": "code",
   "execution_count": 10,
   "id": "3a3b6f9d",
   "metadata": {},
   "outputs": [
    {
     "name": "stdout",
     "output_type": "stream",
     "text": [
      "Epoch 1/9\n",
      "16/16 [==============================] - 1s 35ms/step - loss: 2.5212 - accuracy: 0.5395 - val_loss: 1.6761 - val_accuracy: 0.6360\n",
      "Epoch 2/9\n",
      "16/16 [==============================] - 0s 23ms/step - loss: 1.3923 - accuracy: 0.7091 - val_loss: 1.2837 - val_accuracy: 0.7000\n",
      "Epoch 3/9\n",
      "16/16 [==============================] - 0s 22ms/step - loss: 1.0417 - accuracy: 0.7746 - val_loss: 1.1206 - val_accuracy: 0.7520\n",
      "Epoch 4/9\n",
      "16/16 [==============================] - 0s 23ms/step - loss: 0.8247 - accuracy: 0.8264 - val_loss: 1.0274 - val_accuracy: 0.7880\n",
      "Epoch 5/9\n",
      "16/16 [==============================] - 0s 23ms/step - loss: 0.6573 - accuracy: 0.8609 - val_loss: 0.9625 - val_accuracy: 0.8010\n",
      "Epoch 6/9\n",
      "16/16 [==============================] - 0s 23ms/step - loss: 0.5266 - accuracy: 0.8898 - val_loss: 0.9458 - val_accuracy: 0.8140\n",
      "Epoch 7/9\n",
      "16/16 [==============================] - 0s 25ms/step - loss: 0.4237 - accuracy: 0.9105 - val_loss: 0.8898 - val_accuracy: 0.8190\n",
      "Epoch 8/9\n",
      "16/16 [==============================] - 1s 35ms/step - loss: 0.3437 - accuracy: 0.9247 - val_loss: 0.8817 - val_accuracy: 0.8190\n",
      "Epoch 9/9\n",
      "16/16 [==============================] - 0s 19ms/step - loss: 0.2847 - accuracy: 0.9382 - val_loss: 0.9836 - val_accuracy: 0.7930\n",
      "71/71 [==============================] - 0s 2ms/step - loss: 1.0386 - accuracy: 0.7725\n"
     ]
    },
    {
     "data": {
      "text/plain": [
       "[1.0385942459106445, 0.7724844217300415]"
      ]
     },
     "execution_count": 10,
     "metadata": {},
     "output_type": "execute_result"
    }
   ],
   "source": [
    "model = models.Sequential()\n",
    "\n",
    "model.add(layers.Dense(64, activation='relu', input_shape=(10000, )))\n",
    "model.add(layers.Dense(64, activation='relu'))\n",
    "model.add(layers.Dense(46, activation='softmax'))\n",
    "\n",
    "model.compile(optimizer='rmsprop',\n",
    "              loss='categorical_crossentropy',\n",
    "              metrics=['accuracy'])\n",
    "\n",
    "history = model.fit(partial_x_train,\n",
    "                    partial_y_train,\n",
    "                    epochs = 9,\n",
    "                    batch_size = 512,\n",
    "                    validation_data=(x_val, y_val))\n",
    "\n",
    "results = model.evaluate(x_test, one_hot_test_labels)\n",
    "\n",
    "results"
   ]
  },
  {
   "cell_type": "code",
   "execution_count": 11,
   "id": "8a789a8e",
   "metadata": {},
   "outputs": [
    {
     "name": "stdout",
     "output_type": "stream",
     "text": [
      "71/71 [==============================] - 0s 2ms/step\n"
     ]
    },
    {
     "data": {
      "text/plain": [
       "(46,)"
      ]
     },
     "execution_count": 11,
     "metadata": {},
     "output_type": "execute_result"
    }
   ],
   "source": [
    "predictions = model.predict(x_test)\n",
    "\n",
    "predictions[0].shape"
   ]
  },
  {
   "cell_type": "code",
   "execution_count": 12,
   "id": "efe48bd1",
   "metadata": {},
   "outputs": [
    {
     "data": {
      "text/plain": [
       "3"
      ]
     },
     "execution_count": 12,
     "metadata": {},
     "output_type": "execute_result"
    }
   ],
   "source": [
    "np.argmax(predictions[0])"
   ]
  }
 ],
 "metadata": {
  "kernelspec": {
   "display_name": "tensorflow",
   "language": "python",
   "name": "tensorflow"
  },
  "language_info": {
   "codemirror_mode": {
    "name": "ipython",
    "version": 3
   },
   "file_extension": ".py",
   "mimetype": "text/x-python",
   "name": "python",
   "nbconvert_exporter": "python",
   "pygments_lexer": "ipython3",
   "version": "3.9.15"
  }
 },
 "nbformat": 4,
 "nbformat_minor": 5
}
