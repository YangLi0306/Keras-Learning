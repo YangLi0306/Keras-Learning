{
 "cells": [
  {
   "cell_type": "markdown",
   "id": "dc3d2341",
   "metadata": {},
   "source": [
    "# 1、神经网络数据表示"
   ]
  },
  {
   "cell_type": "markdown",
   "id": "fac36348",
   "metadata": {},
   "source": [
    "**标量(0D张量)**  \n",
    "仅包含一个数字的张量叫做标量，ndim = 0"
   ]
  },
  {
   "cell_type": "code",
   "execution_count": 1,
   "id": "e95473ba",
   "metadata": {},
   "outputs": [
    {
     "data": {
      "text/plain": [
       "array(12)"
      ]
     },
     "execution_count": 1,
     "metadata": {},
     "output_type": "execute_result"
    }
   ],
   "source": [
    "import numpy as np\n",
    "\n",
    "x = np.array(12)\n",
    "x "
   ]
  },
  {
   "cell_type": "code",
   "execution_count": 2,
   "id": "209f3b42",
   "metadata": {},
   "outputs": [
    {
     "data": {
      "text/plain": [
       "0"
      ]
     },
     "execution_count": 2,
     "metadata": {},
     "output_type": "execute_result"
    }
   ],
   "source": [
    "x.ndim"
   ]
  },
  {
   "cell_type": "markdown",
   "id": "e3a13c5f",
   "metadata": {},
   "source": [
    "**向量(1D张量)**  \n",
    "数组组成的数组叫向量（vector），ndim = 1"
   ]
  },
  {
   "cell_type": "code",
   "execution_count": 3,
   "id": "b2cc2296",
   "metadata": {},
   "outputs": [
    {
     "data": {
      "text/plain": [
       "array([1, 2, 3, 4, 5])"
      ]
     },
     "execution_count": 3,
     "metadata": {},
     "output_type": "execute_result"
    }
   ],
   "source": [
    "x = np.array([1, 2, 3, 4 , 5])\n",
    "x"
   ]
  },
  {
   "cell_type": "code",
   "execution_count": 4,
   "id": "d3abb84c",
   "metadata": {},
   "outputs": [
    {
     "data": {
      "text/plain": [
       "1"
      ]
     },
     "execution_count": 4,
     "metadata": {},
     "output_type": "execute_result"
    }
   ],
   "source": [
    "x.ndim"
   ]
  },
  {
   "cell_type": "markdown",
   "id": "dd118d94",
   "metadata": {},
   "source": [
    "**矩阵(2D张量)**  \n",
    "向量组成的数组叫作矩阵（matrix），ndim = 2"
   ]
  },
  {
   "cell_type": "code",
   "execution_count": 5,
   "id": "6e66a6a8",
   "metadata": {},
   "outputs": [
    {
     "data": {
      "text/plain": [
       "array([[1, 2, 3],\n",
       "       [4, 5, 6],\n",
       "       [7, 8, 9]])"
      ]
     },
     "execution_count": 5,
     "metadata": {},
     "output_type": "execute_result"
    }
   ],
   "source": [
    "x = np.array([[1, 2, 3], \n",
    "              [4, 5, 6],\n",
    "              [7, 8, 9]])\n",
    "x"
   ]
  },
  {
   "cell_type": "code",
   "execution_count": 6,
   "id": "f9f9b3e5",
   "metadata": {},
   "outputs": [
    {
     "data": {
      "text/plain": [
       "2"
      ]
     },
     "execution_count": 6,
     "metadata": {},
     "output_type": "execute_result"
    }
   ],
   "source": [
    "x.ndim"
   ]
  },
  {
   "cell_type": "markdown",
   "id": "64f6b46a",
   "metadata": {},
   "source": [
    "**3D张量与高维张量**"
   ]
  },
  {
   "cell_type": "code",
   "execution_count": 7,
   "id": "4661c796",
   "metadata": {},
   "outputs": [
    {
     "data": {
      "text/plain": [
       "array([[[1, 2],\n",
       "        [1, 2]],\n",
       "\n",
       "       [[3, 4],\n",
       "        [3, 4]],\n",
       "\n",
       "       [[5, 6],\n",
       "        [5, 6]]])"
      ]
     },
     "execution_count": 7,
     "metadata": {},
     "output_type": "execute_result"
    }
   ],
   "source": [
    "x = np.array([[[1, 2],\n",
    "               [1, 2]],\n",
    "              [[3, 4],\n",
    "               [3, 4]],\n",
    "              [[5, 6],\n",
    "               [5, 6]]])\n",
    "x"
   ]
  },
  {
   "cell_type": "code",
   "execution_count": 8,
   "id": "753cc94b",
   "metadata": {},
   "outputs": [
    {
     "data": {
      "text/plain": [
       "3"
      ]
     },
     "execution_count": 8,
     "metadata": {},
     "output_type": "execute_result"
    }
   ],
   "source": [
    "x.ndim"
   ]
  },
  {
   "cell_type": "markdown",
   "id": "d6b8389e",
   "metadata": {},
   "source": [
    "**查看数据的数据类型和形状**  "
   ]
  },
  {
   "cell_type": "code",
   "execution_count": 9,
   "id": "85f81dd9",
   "metadata": {},
   "outputs": [
    {
     "data": {
      "text/plain": [
       "(2, 3)"
      ]
     },
     "execution_count": 9,
     "metadata": {},
     "output_type": "execute_result"
    }
   ],
   "source": [
    "x = np.array([[1, 2, 3],\n",
    "              [4, 5, 6]])\n",
    "# 形状\n",
    "x.shape"
   ]
  },
  {
   "cell_type": "code",
   "execution_count": 10,
   "id": "e22d9900",
   "metadata": {},
   "outputs": [
    {
     "data": {
      "text/plain": [
       "dtype('int32')"
      ]
     },
     "execution_count": 10,
     "metadata": {},
     "output_type": "execute_result"
    }
   ],
   "source": [
    "# 数据类型\n",
    "x.dtype"
   ]
  },
  {
   "cell_type": "markdown",
   "id": "1838c549",
   "metadata": {},
   "source": [
    "# 2、数据操作"
   ]
  },
  {
   "cell_type": "markdown",
   "id": "70304440",
   "metadata": {},
   "source": [
    "**切片 Slice**"
   ]
  },
  {
   "cell_type": "code",
   "execution_count": 13,
   "id": "2d068695",
   "metadata": {},
   "outputs": [
    {
     "data": {
      "text/plain": [
       "array([[[3, 4],\n",
       "        [3, 4]],\n",
       "\n",
       "       [[5, 6],\n",
       "        [5, 6]]])"
      ]
     },
     "execution_count": 13,
     "metadata": {},
     "output_type": "execute_result"
    }
   ],
   "source": [
    "x = np.array([[[1, 2],\n",
    "               [1, 2]],\n",
    "              [[3, 4],\n",
    "               [3, 4]],\n",
    "              [[5, 6],\n",
    "               [5, 6]]])\n",
    "x_slice = x[1:3]\n",
    "x_slice"
   ]
  },
  {
   "cell_type": "code",
   "execution_count": 14,
   "id": "22d1212a",
   "metadata": {},
   "outputs": [
    {
     "data": {
      "text/plain": [
       "(2, 2, 2)"
      ]
     },
     "execution_count": 14,
     "metadata": {},
     "output_type": "execute_result"
    }
   ],
   "source": [
    "x_slice.shape"
   ]
  },
  {
   "cell_type": "markdown",
   "id": "a7b5ee5b",
   "metadata": {},
   "source": [
    "**数据批量**  \n",
    "机器学习中，有时不会处理整个数据集，而是将数据拆分为小批量，比如一个批量为128，batch = 128。  \n",
    "一般，第一个轴叫做 批量轴  \n",
    "**逐元素运算**"
   ]
  },
  {
   "cell_type": "code",
   "execution_count": 5,
   "id": "2094a237",
   "metadata": {},
   "outputs": [
    {
     "data": {
      "text/plain": [
       "array([1, 2, 3, 4, 5])"
      ]
     },
     "execution_count": 5,
     "metadata": {},
     "output_type": "execute_result"
    }
   ],
   "source": [
    "import numpy as np  \n",
    "# 逐元素相加\n",
    "x = np.array([1, 1, 1, 1, 1]) \n",
    "y = np.array([0, 1, 2, 3, 4])\n",
    "z = x + y\n",
    "z "
   ]
  },
  {
   "cell_type": "code",
   "execution_count": 6,
   "id": "cc5b2616",
   "metadata": {},
   "outputs": [
    {
     "data": {
      "text/plain": [
       "10"
      ]
     },
     "execution_count": 6,
     "metadata": {},
     "output_type": "execute_result"
    }
   ],
   "source": [
    "# 点积\n",
    "z = np.dot(x, y)\n",
    "z"
   ]
  },
  {
   "cell_type": "markdown",
   "id": "77b43bfb",
   "metadata": {},
   "source": [
    "**张量变形**  \n",
    "张量变形是指改变张量的行和列，变形后的张量的元素总个数与初始张量相同  "
   ]
  },
  {
   "cell_type": "code",
   "execution_count": 7,
   "id": "46dda934",
   "metadata": {},
   "outputs": [
    {
     "data": {
      "text/plain": [
       "(3, 2)"
      ]
     },
     "execution_count": 7,
     "metadata": {},
     "output_type": "execute_result"
    }
   ],
   "source": [
    "x = np.array([[1, 2],\n",
    "              [3, 4],\n",
    "              [5, 6]])  \n",
    "x.shape"
   ]
  },
  {
   "cell_type": "code",
   "execution_count": 8,
   "id": "354d1ba4",
   "metadata": {},
   "outputs": [
    {
     "data": {
      "text/plain": [
       "array([[1],\n",
       "       [2],\n",
       "       [3],\n",
       "       [4],\n",
       "       [5],\n",
       "       [6]])"
      ]
     },
     "execution_count": 8,
     "metadata": {},
     "output_type": "execute_result"
    }
   ],
   "source": [
    "x = x.reshape((6, 1)) \n",
    "x"
   ]
  },
  {
   "cell_type": "code",
   "execution_count": 9,
   "id": "f7a8c4ef",
   "metadata": {},
   "outputs": [
    {
     "data": {
      "text/plain": [
       "array([[1, 2, 3],\n",
       "       [4, 5, 6]])"
      ]
     },
     "execution_count": 9,
     "metadata": {},
     "output_type": "execute_result"
    }
   ],
   "source": [
    "x = x.reshape((2,3))\n",
    "x "
   ]
  },
  {
   "cell_type": "code",
   "execution_count": 10,
   "id": "721b8008",
   "metadata": {},
   "outputs": [
    {
     "data": {
      "text/plain": [
       "(20, 300)"
      ]
     },
     "execution_count": 10,
     "metadata": {},
     "output_type": "execute_result"
    }
   ],
   "source": [
    "# 转置 transposition, 行列互换\n",
    "x = np.zeros((300, 20))\n",
    "x = np.transpose(x) \n",
    "x.shape"
   ]
  },
  {
   "cell_type": "code",
   "execution_count": null,
   "id": "85a9b5ba",
   "metadata": {},
   "outputs": [],
   "source": []
  }
 ],
 "metadata": {
  "kernelspec": {
   "display_name": "tensorflow",
   "language": "python",
   "name": "tensorflow"
  },
  "language_info": {
   "codemirror_mode": {
    "name": "ipython",
    "version": 3
   },
   "file_extension": ".py",
   "mimetype": "text/x-python",
   "name": "python",
   "nbconvert_exporter": "python",
   "pygments_lexer": "ipython3",
   "version": "3.9.15"
  }
 },
 "nbformat": 4,
 "nbformat_minor": 5
}
