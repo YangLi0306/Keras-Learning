{
 "cells": [
  {
   "cell_type": "markdown",
   "id": "b1e0dfb1",
   "metadata": {},
   "source": [
    "# TensorBoard"
   ]
  },
  {
   "cell_type": "markdown",
   "id": "59c7c2c7",
   "metadata": {},
   "source": [
    "### Step 1：使用了TensorBoard的文本分类模型"
   ]
  },
  {
   "cell_type": "code",
   "execution_count": 2,
   "id": "3c832d9a",
   "metadata": {},
   "outputs": [
    {
     "name": "stdout",
     "output_type": "stream",
     "text": [
      "Model: \"sequential\"\n",
      "_________________________________________________________________\n",
      " Layer (type)                Output Shape              Param #   \n",
      "=================================================================\n",
      " embed (Embedding)           (None, 500, 128)          256000    \n",
      "                                                                 \n",
      " conv1d (Conv1D)             (None, 494, 32)           28704     \n",
      "                                                                 \n",
      " max_pooling1d (MaxPooling1D  (None, 98, 32)           0         \n",
      " )                                                               \n",
      "                                                                 \n",
      " conv1d_1 (Conv1D)           (None, 92, 32)            7200      \n",
      "                                                                 \n",
      " global_max_pooling1d (Globa  (None, 32)               0         \n",
      " lMaxPooling1D)                                                  \n",
      "                                                                 \n",
      " dense (Dense)               (None, 1)                 33        \n",
      "                                                                 \n",
      "=================================================================\n",
      "Total params: 291,937\n",
      "Trainable params: 291,937\n",
      "Non-trainable params: 0\n",
      "_________________________________________________________________\n"
     ]
    }
   ],
   "source": [
    "import keras \n",
    "from keras import layers\n",
    "from keras.datasets import imdb\n",
    "from keras_preprocessing import sequence\n",
    "\n",
    "max_features = 2000\n",
    "max_len = 500\n",
    "\n",
    "(x_train, y_train), (x_test, y_test) = imdb.load_data(num_words=max_features)\n",
    "\n",
    "x_train = sequence.pad_sequences(x_train, maxlen=max_len)\n",
    "x_test = sequence.pad_sequences(x_test, maxlen=max_len)\n",
    "model = keras.models.Sequential()\n",
    "model.add(layers.Embedding(max_features, 128, input_length=max_len, name='embed'))\n",
    "model.add(layers.Conv1D(32, 7, activation='relu'))\n",
    "model.add(layers.MaxPooling1D(5))\n",
    "model.add(layers.Conv1D(32, 7, activation='relu'))\n",
    "model.add(layers.GlobalMaxPooling1D())\n",
    "model.add(layers.Dense(1))\n",
    "model.summary()"
   ]
  },
  {
   "cell_type": "code",
   "execution_count": 5,
   "id": "3199a304",
   "metadata": {
    "scrolled": true
   },
   "outputs": [
    {
     "name": "stdout",
     "output_type": "stream",
     "text": [
      "Epoch 1/20\n",
      "157/157 [==============================] - 37s 227ms/step - loss: 0.6155 - acc: 0.6592 - val_loss: 0.5110 - val_acc: 0.8070\n",
      "Epoch 2/20\n",
      "157/157 [==============================] - 39s 248ms/step - loss: 0.4610 - acc: 0.8481 - val_loss: 0.4358 - val_acc: 0.8508\n",
      "Epoch 3/20\n",
      "157/157 [==============================] - 37s 232ms/step - loss: 0.4076 - acc: 0.8741 - val_loss: 0.5038 - val_acc: 0.8534\n",
      "Epoch 4/20\n",
      "157/157 [==============================] - 34s 216ms/step - loss: 0.3474 - acc: 0.8934 - val_loss: 0.6333 - val_acc: 0.8484\n",
      "Epoch 5/20\n",
      "157/157 [==============================] - 38s 242ms/step - loss: 0.3269 - acc: 0.9093 - val_loss: 0.5770 - val_acc: 0.8684\n",
      "Epoch 6/20\n",
      "157/157 [==============================] - 39s 247ms/step - loss: 0.2693 - acc: 0.9263 - val_loss: 0.7483 - val_acc: 0.8464\n",
      "Epoch 7/20\n",
      "157/157 [==============================] - 41s 261ms/step - loss: 0.2325 - acc: 0.9430 - val_loss: 0.7148 - val_acc: 0.8664\n",
      "Epoch 8/20\n",
      "157/157 [==============================] - 44s 282ms/step - loss: 0.1901 - acc: 0.9605 - val_loss: 0.7414 - val_acc: 0.8664\n",
      "Epoch 9/20\n",
      "157/157 [==============================] - 47s 299ms/step - loss: 0.1571 - acc: 0.9777 - val_loss: 0.8479 - val_acc: 0.8676\n",
      "Epoch 10/20\n",
      "157/157 [==============================] - 41s 260ms/step - loss: 0.1405 - acc: 0.9807 - val_loss: 1.1767 - val_acc: 0.8398\n",
      "Epoch 11/20\n",
      "157/157 [==============================] - 36s 230ms/step - loss: 0.1297 - acc: 0.9852 - val_loss: 0.9529 - val_acc: 0.8656\n",
      "Epoch 12/20\n",
      "157/157 [==============================] - 33s 208ms/step - loss: 0.1131 - acc: 0.9886 - val_loss: 1.0142 - val_acc: 0.8682\n",
      "Epoch 13/20\n",
      "157/157 [==============================] - 33s 209ms/step - loss: 0.1109 - acc: 0.9901 - val_loss: 1.0345 - val_acc: 0.8694\n",
      "Epoch 14/20\n",
      "157/157 [==============================] - 33s 209ms/step - loss: 0.1076 - acc: 0.9894 - val_loss: 1.0392 - val_acc: 0.8660\n",
      "Epoch 15/20\n",
      "157/157 [==============================] - 33s 208ms/step - loss: 0.1056 - acc: 0.9902 - val_loss: 1.1416 - val_acc: 0.8620\n",
      "Epoch 16/20\n",
      "157/157 [==============================] - 33s 209ms/step - loss: 0.1031 - acc: 0.9907 - val_loss: 1.1065 - val_acc: 0.8678\n",
      "Epoch 17/20\n",
      "157/157 [==============================] - 32s 207ms/step - loss: 0.1038 - acc: 0.9891 - val_loss: 1.1750 - val_acc: 0.8686\n",
      "Epoch 18/20\n",
      "157/157 [==============================] - 33s 211ms/step - loss: 0.0982 - acc: 0.9911 - val_loss: 1.1565 - val_acc: 0.8692\n",
      "Epoch 19/20\n",
      "157/157 [==============================] - 33s 213ms/step - loss: 0.1001 - acc: 0.9909 - val_loss: 1.1996 - val_acc: 0.8698\n",
      "Epoch 20/20\n",
      "157/157 [==============================] - 34s 216ms/step - loss: 0.1013 - acc: 0.9905 - val_loss: 1.1655 - val_acc: 0.8670\n"
     ]
    }
   ],
   "source": [
    "\n",
    "model.compile(optimizer='rmsprop',\n",
    " loss='binary_crossentropy',\n",
    " metrics=['acc'])\n",
    "\n",
    "# 为TensorBoard 日志文件创建一个目录\n",
    "my_log_dir = 'D://ML/tensorboard_log/'\n",
    "\n",
    "# 使用一个 TensorBoard 回调函数来训练模型\n",
    "callbacks = [\n",
    "    keras.callbacks.TensorBoard(\n",
    "        log_dir= my_log_dir, \n",
    "        histogram_freq=1, \n",
    "        embeddings_freq=1, \n",
    " )\n",
    "]\n",
    "\n",
    "history = model.fit(x_train, y_train,\n",
    "                    epochs=20,\n",
    "                    batch_size=128,\n",
    "                    validation_split=0.2,\n",
    "                    callbacks=callbacks)"
   ]
  },
  {
   "cell_type": "code",
   "execution_count": 17,
   "id": "f9d164ca",
   "metadata": {},
   "outputs": [],
   "source": [
    "%reload_ext tensorboard"
   ]
  },
  {
   "cell_type": "code",
   "execution_count": 22,
   "id": "99dc8bae",
   "metadata": {},
   "outputs": [
    {
     "data": {
      "text/html": [
       "\n",
       "      <iframe id=\"tensorboard-frame-261ee1a49676a5c2\" width=\"100%\" height=\"800\" frameborder=\"0\">\n",
       "      </iframe>\n",
       "      <script>\n",
       "        (function() {\n",
       "          const frame = document.getElementById(\"tensorboard-frame-261ee1a49676a5c2\");\n",
       "          const url = new URL(\"/\", window.location);\n",
       "          const port = 6006;\n",
       "          if (port) {\n",
       "            url.port = port;\n",
       "          }\n",
       "          frame.src = url;\n",
       "        })();\n",
       "      </script>\n",
       "    "
      ],
      "text/plain": [
       "<IPython.core.display.HTML object>"
      ]
     },
     "metadata": {},
     "output_type": "display_data"
    }
   ],
   "source": [
    "import os\n",
    "os.environ['TENSORBOARD_BINARY'] = '/Anaconda1/envs/tensorflow/Scripts/tensorboard.exe'\n",
    "%tensorboard --logdir \"D:\\ML\\tensorboard_log\""
   ]
  }
 ],
 "metadata": {
  "kernelspec": {
   "display_name": "tensorflow",
   "language": "python",
   "name": "tensorflow"
  },
  "language_info": {
   "codemirror_mode": {
    "name": "ipython",
    "version": 3
   },
   "file_extension": ".py",
   "mimetype": "text/x-python",
   "name": "python",
   "nbconvert_exporter": "python",
   "pygments_lexer": "ipython3",
   "version": "3.9.15"
  }
 },
 "nbformat": 4,
 "nbformat_minor": 5
}
